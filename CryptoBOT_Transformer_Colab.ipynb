{
 "cells": [
  {
   "cell_type": "markdown",
   "id": "b045b0af",
   "metadata": {},
   "source": [
    "# 暗号通貨価格予測モデル (Transformer)\n",
    "\n",
    "このノートブックでは、改善されたTransformerモデルを使用して暗号通貨の価格予測を行います。\n",
    "Google DriveとローカルCSVの両方からデータを読み込むことができます。"
   ]
  },
  {
   "cell_type": "code",
   "execution_count": null,
   "id": "665d2a7b",
   "metadata": {},
   "outputs": [],
   "source": [
    "# 必要なライブラリのインストール\n",
    "!pip install tensorflow pandas numpy scikit-learn backtesting ta"
   ]
  },
  {
   "cell_type": "code",
   "execution_count": null,
   "id": "b1594174",
   "metadata": {},
   "outputs": [],
   "source": [
    "# Google Driveのマウント\n",
    "from google.colab import drive\n",
    "drive.mount(\"/content/drive\")"
   ]
  },
  {
   "cell_type": "code",
   "execution_count": null,
   "id": "a860a94b",
   "metadata": {},
   "outputs": [],
   "source": [
    "# リポジトリのクローン\n",
    "!git clone https://github.com/Kotakageyama/sakata_goho_chart.git\n",
    "%cd sakata_goho_chart"
   ]
  },
  {
   "cell_type": "code",
   "execution_count": null,
   "id": "0ff509f4",
   "metadata": {},
   "outputs": [],
   "source": [
    "# 必要なモジュールのインポート\n",
    "from src.data import CryptoDataLoader\n",
    "from src.models.transformer_model import create_model\n",
    "from src.models.training import ModelTrainer\n",
    "from src.models.strategy import TransformerStrategy\n",
    "\n",
    "import pandas as pd\n",
    "import numpy as np\n",
    "import matplotlib.pyplot as plt\n",
    "%matplotlib inline"
   ]
  },
  {
   "cell_type": "markdown",
   "id": "8b773125",
   "metadata": {},
   "source": [
    "## データの読み込み\n",
    "Google DriveまたはローカルCSVからデータを読み込むことができます。"
   ]
  },
  {
   "cell_type": "code",
   "execution_count": null,
   "id": "13afc622",
   "metadata": {},
   "outputs": [],
   "source": [
    "# データローダーの初期化\n",
    "data_loader = CryptoDataLoader()\n",
    "\n",
    "# Google Driveからデータを読み込む場合\n",
    "drive_path = \"/content/drive/MyDrive/Colab Notebooks/DataSetBox/ETHUSD_2Year_2022-11-15_2024-11-15.csv\"\n",
    "df_drive = data_loader.load_data(drive_path)\n",
    "print(\"Google Driveからのデータ形状:\", df_drive.shape)\n",
    "print(\"\\nGoogle Driveデータのサンプル:\")\n",
    "display(df_drive.head())\n",
    "\n",
    "# ローカルCSVからデータを読み込む場合\n",
    "local_path = \"data/ETHUSD_2Year_2022-11-15_2024-11-15.csv\"\n",
    "df_local = data_loader.load_data(local_path)\n",
    "print(\"\\nローカルCSVからのデータ形状:\", df_local.shape)\n",
    "print(\"\\nローカルデータのサンプル:\")\n",
    "display(df_local.head())"
   ]
  },
  {
   "cell_type": "markdown",
   "id": "bb6ec066",
   "metadata": {},
   "source": [
    "## モデルのトレーニング"
   ]
  },
  {
   "cell_type": "code",
   "execution_count": null,
   "id": "1abd6e77",
   "metadata": {},
   "outputs": [],
   "source": [
    "# データの準備\n",
    "sequence_length = 60\n",
    "X_train, X_test, y_train, y_test, scaler = data_loader.prepare_data(\n",
    "    df_drive,\n",
    "    sequence_length=sequence_length\n",
    ")\n",
    "\n",
    "# モデルトレーナーの初期化\n",
    "trainer = ModelTrainer(\n",
    "    sequence_length=sequence_length,\n",
    "    num_features=X_train.shape[2],\n",
    "    n_splits=5\n",
    ")\n",
    "\n",
    "# ハイパーパラメータの最適化\n",
    "param_grid = {\n",
    "    \"d_model\": [64, 128],\n",
    "    \"num_heads\": [4, 8],\n",
    "    \"num_transformer_blocks\": [2, 4],\n",
    "    \"dropout\": [0.1, 0.2]\n",
    "}\n",
    "\n",
    "best_params, best_metrics = trainer.optimize_hyperparameters(\n",
    "    X_train,\n",
    "    y_train,\n",
    "    param_grid,\n",
    "    epochs=50,\n",
    "    batch_size=32,\n",
    "    validation_split=0.2\n",
    ")\n",
    "\n",
    "print(\"最適なパラメータ:\", best_params)\n",
    "print(\"最良のメトリクス:\", best_metrics)"
   ]
  },
  {
   "cell_type": "markdown",
   "id": "8ae431ed",
   "metadata": {},
   "source": [
    "## バックテストの実行"
   ]
  },
  {
   "cell_type": "code",
   "execution_count": null,
   "id": "aa1341e8",
   "metadata": {},
   "outputs": [],
   "source": [
    "from backtesting import Backtest\n",
    "\n",
    "# モデルの予測を取得\n",
    "predictions = trainer.best_model.predict(X_test)\n",
    "price_pred = predictions[0]\n",
    "direction_pred = predictions[1]\n",
    "\n",
    "# バックテストデータの準備\n",
    "test_data = df_drive.iloc[-len(y_test):].copy()\n",
    "test_data[\"price_pred\"] = price_pred\n",
    "test_data[\"direction_pred\"] = direction_pred\n",
    "\n",
    "# バックテストの実行\n",
    "bt = Backtest(\n",
    "    test_data,\n",
    "    TransformerStrategy,\n",
    "    cash=10000,\n",
    "    commission=.002,\n",
    "    trade_on_close=True,\n",
    ")\n",
    "\n",
    "# 結果の表示\n",
    "stats = bt.run()\n",
    "print(stats)\n",
    "bt.plot()"
   ]
  }
 ],
 "metadata": {},
 "nbformat": 4,
 "nbformat_minor": 5
}
