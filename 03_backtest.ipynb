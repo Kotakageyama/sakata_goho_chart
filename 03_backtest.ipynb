# ---
# jupyter:
#   jupytext:
#     text_representation:
#       extension: .py
#       format_name: percent
#       format_version: '1.3'
#       jupytext_version: 1.15.2
#   kernelspec:
#     display_name: Python 3
#     language: python
#     name: python3
# ---

# %% [markdown]
# # 📈 バックテストノートブック (Issue #3)
#
# **目的**: 03_backtest.ipynb でトレーニング済みモデルを読み込み、backtesting.py か自前ロジックでバックテスト。添付画像レベルの多面チャートを自動生成し GDrive /data/reports/ に保存。
#
# ## チェックリスト
# - [ ] 戦略クラス実装（ロング／ショート両対応）
# - [ ] Equity curve・リターン分布・DD 等を matplotlib で作図
# - [ ] %%capture でログ抑制、最後に全画像を display()
# - [ ] JSON で PF・勝率・最大 DD をエクスポートし、次の自動レポート工程に備える

# %% [markdown]
# ## 1. セットアップ

# %%
# %%capture setup_output
# Google Drive マウント & 必要ライブラリのインストール
try:
    from google.colab import drive
    drive.mount("/content/drive")
    
    # パスの設定
    import sys
    sys.path.append("/content/drive/MyDrive/kucoin_bot")
    
    # 必要なライブラリをインストール
    get_ipython().system('pip install -q scikit-learn lightgbm xgboost tensorflow pandas_ta pyti ta')
    get_ipython().system('pip install -q plotly ipywidgets')
    
    print("✅ Google Colab セットアップ完了！")
    COLAB_ENV = True
except ImportError:
    print("ローカル環境で実行中")
    COLAB_ENV = False

# %%
# ライブラリのインポート
import pandas as pd
import numpy as np
import matplotlib.pyplot as plt
import seaborn as sns
from datetime import datetime, timedelta
import json
import os
import pickle
import warnings
warnings.filterwarnings('ignore')

# 可視化設定
plt.style.use('seaborn-v0_8')
sns.set_palette("husl")
plt.rcParams['figure.figsize'] = [12, 8]
plt.rcParams['font.size'] = 10

# プロジェクト専用ライブラリ
from utils.drive_io import (
    save_data, 
    load_data, 
    ModelUtils,
    DataPreprocessor,
    BacktestUtils,
    get_project_path
)

print("✅ ライブラリのインポート完了")

# %% [markdown]
# ## 2. 設定・パラメータ

# %%
# バックテスト設定
CONFIG = {
    "symbol": "SOL_USDT",
    "initial_capital": 10000,  # 初期資金（USDT）
    "transaction_cost": 0.001,  # 取引手数料（0.1%）
    "min_confidence": 0.6,  # 最小信頼度閾値
    
    # リスク管理
    "stop_loss": 0.05,  # ストップロス（5%）
    "take_profit": 0.10,  # テイクプロフィット（10%）
    "max_position_size": 0.2,  # 最大ポジションサイズ（20%）
    
    # ファイル設定
    "model_date": datetime.now().strftime("%Y%m%d"),  # 今日の日付
    "reports_dir": "data/reports"
}

print(f"対象銘柄: {CONFIG['symbol']}")
print(f"初期資金: ${CONFIG['initial_capital']:,.2f}")
print(f"取引手数料: {CONFIG['transaction_cost']*100:.2f}%")

# %% [markdown]
# ## 3. 戦略クラス実装（ロング／ショート両対応）

# %%
class TradingStrategy:
    """トレーディング戦略基底クラス"""
    
    def __init__(self, initial_capital, transaction_cost, stop_loss=None, take_profit=None):
        self.initial_capital = initial_capital
        self.transaction_cost = transaction_cost
        self.stop_loss = stop_loss
        self.take_profit = take_profit
        
        # 状態変数
        self.reset()
        
    def reset(self):
        """戦略状態をリセット"""
        self.capital = self.initial_capital
        self.position = 0  # 現在ポジション（正=ロング、負=ショート、0=無ポジション）
        self.position_value = 0  # ポジション評価額
        self.entry_price = 0  # エントリー価格
        self.trades = []  # 取引履歴
        self.portfolio_values = []  # ポートフォリオ価値推移
        
    def generate_signal(self, row):
        """シグナル生成（サブクラスで実装）"""
        raise NotImplementedError
        
    def execute_trade(self, price, signal, date):
        """取引実行"""
        if signal == 1 and self.position <= 0:  # ロングエントリー
            self._enter_long(price, date)
        elif signal == -1 and self.position >= 0:  # ショートエントリー
            self._enter_short(price, date)
        elif signal == 0:  # ポジション決済
            self._close_position(price, date)
            
    def _enter_long(self, price, date):
        """ロングポジション開始"""
        if self.position < 0:  # ショートポジションがある場合は決済
            self._close_position(price, date)
            
        # 利用可能資金でロングポジション
        available_capital = self.capital * (1 - self.transaction_cost)
        position_size = available_capital / price
        
        if position_size > 0:
            self.position = position_size
            self.entry_price = price
            self.capital = 0
            
            self.trades.append({
                'date': date,
                'action': 'LONG_ENTRY',
                'price': price,
                'quantity': position_size,
                'capital': self.capital + self.position * price
            })
            
    def _enter_short(self, price, date):
        """ショートポジション開始"""
        if self.position > 0:  # ロングポジションがある場合は決済
            self._close_position(price, date)
            
        # ショートポジション（資金の範囲内で）
        available_capital = self.capital * (1 - self.transaction_cost)
        position_size = -(available_capital / price)  # 負の値
        
        if position_size < 0:
            self.position = position_size
            self.entry_price = price
            self.capital = available_capital  # ショート時は資金は維持
            
            self.trades.append({
                'date': date,
                'action': 'SHORT_ENTRY',
                'price': price,
                'quantity': position_size,
                'capital': self.capital
            })
            
    def _close_position(self, price, date):
        """ポジション決済"""
        if self.position == 0:
            return
            
        if self.position > 0:  # ロング決済
            proceeds = self.position * price * (1 - self.transaction_cost)
            action = 'LONG_EXIT'
        else:  # ショート決済
            # ショート決済では差額を計算
            pnl = abs(self.position) * (self.entry_price - price)
            proceeds = self.capital + pnl * (1 - self.transaction_cost)
            action = 'SHORT_EXIT'
            
        self.capital = proceeds
        closed_quantity = self.position
        self.position = 0
        self.entry_price = 0
        
        self.trades.append({
            'date': date,
            'action': action,
            'price': price,
            'quantity': closed_quantity,
            'capital': self.capital
        })
        
    def check_stop_conditions(self, current_price, date):
        """ストップロス・テイクプロフィットのチェック"""
        if self.position == 0 or self.entry_price == 0:
            return
            
        if self.position > 0:  # ロングポジション
            price_change = (current_price - self.entry_price) / self.entry_price
        else:  # ショートポジション
            price_change = (self.entry_price - current_price) / self.entry_price
            
        # ストップロス
        if self.stop_loss and price_change <= -self.stop_loss:
            self._close_position(current_price, date)
            
        # テイクプロフィット
        elif self.take_profit and price_change >= self.take_profit:
            self._close_position(current_price, date)
            
    def update_portfolio_value(self, current_price):
        """ポートフォリオ価値の更新"""
        if self.position > 0:  # ロングポジション
            self.position_value = self.position * current_price
            current_portfolio_value = self.capital + self.position_value
        elif self.position < 0:  # ショートポジション
            pnl = abs(self.position) * (self.entry_price - current_price)
            current_portfolio_value = self.capital + pnl
        else:  # 無ポジション
            current_portfolio_value = self.capital
            
        self.portfolio_values.append(current_portfolio_value)
        return current_portfolio_value


class MLStrategy(TradingStrategy):
    """機械学習ベースの戦略"""
    
    def __init__(self, model, min_confidence=0.6, **kwargs):
        super().__init__(**kwargs)
        self.model = model
        self.min_confidence = min_confidence
        
    def generate_signal(self, row):
        """機械学習モデルからシグナル生成"""
        # 予測確率を取得
        prediction_prob = row.get('prediction_prob', 0.5)
        
        if prediction_prob > self.min_confidence:
            return 1  # ロングシグナル
        elif prediction_prob < (1 - self.min_confidence):
            return -1  # ショートシグナル
        else:
            return 0  # 無ポジション

print("✅ 戦略クラス実装完了")

# %% [markdown]
# ## 4. モデル・データ読み込み

# %%
# %%capture load_output
# 最新のモデルを読み込み
project_path = get_project_path()
model_dir = os.path.join(project_path, "data", "models", CONFIG["model_date"])

# モデルメタデータの読み込み
metadata_path = os.path.join(model_dir, "metadata.json")
if os.path.exists(metadata_path):
    with open(metadata_path, 'r', encoding='utf-8') as f:
        metadata = json.load(f)
    print(f"✅ メタデータ読み込み完了: {metadata['model_info']['model_type']}")
else:
    # 最新のモデルディレクトリを検索
    models_base_dir = os.path.join(project_path, "data", "models")
    if os.path.exists(models_base_dir):
        model_dates = [d for d in os.listdir(models_base_dir) if os.path.isdir(os.path.join(models_base_dir, d))]
        if model_dates:
            latest_date = max(model_dates)
            model_dir = os.path.join(models_base_dir, latest_date)
            metadata_path = os.path.join(model_dir, "metadata.json")
            
            if os.path.exists(metadata_path):
                with open(metadata_path, 'r', encoding='utf-8') as f:
                    metadata = json.load(f)
                print(f"✅ 最新モデル使用: {latest_date} - {metadata['model_info']['model_type']}")
            else:
                raise FileNotFoundError("メタデータファイルが見つかりません")
        else:
            raise FileNotFoundError("モデルディレクトリが見つかりません")
    else:
        raise FileNotFoundError("modelsディレクトリが見つかりません")

# モデル読み込み
model_path = os.path.join(model_dir, "model.pkl")
with open(model_path, 'rb') as f:
    model = pickle.load(f)

# 特徴量リスト読み込み
features_path = os.path.join(model_dir, "features.json")
with open(features_path, 'r', encoding='utf-8') as f:
    feature_columns = json.load(f)

print(f"モデル: {metadata['model_info']['model_type']}")
print(f"精度: {metadata['model_performance']['accuracy']:.3f}")
print(f"AUC: {metadata['model_performance']['auc']:.3f}")

# %% [markdown]
# ## 5. バックテストデータ準備

# %%
# %%capture data_prep_output
# データ読み込み（特徴量付きデータを想定）
from utils.drive_io import load_raw
from utils.indicators import add_all

# 生データを読み込み
df_raw = load_raw(symbol=CONFIG["symbol"].replace("/", "_"), timeframe="1d", limit=1000)

# 特徴量生成
df = add_all(df_raw.copy())
df = df.dropna()

# 予測の実行
X = df[feature_columns].fillna(0)

# モデルタイプに応じた予測
if metadata['model_info']['model_type'] in ['xgboost', 'lightgbm']:
    prediction_probs = model.predict_proba(X.values)[:, 1]
else:
    # スケーラーが必要な場合
    scaler_path = os.path.join(model_dir, "scaler.pkl")
    if os.path.exists(scaler_path):
        with open(scaler_path, 'rb') as f:
            scaler = pickle.load(f)
        X_scaled = scaler.transform(X.values)
        prediction_probs = model.predict_proba(X_scaled)[:, 1]
    else:
        prediction_probs = model.predict_proba(X.values)[:, 1]

df['prediction_prob'] = prediction_probs

print(f"データ期間: {df.index[0]} - {df.index[-1]}")
print(f"データポイント数: {len(df)}")
print(f"予測確率範囲: {prediction_probs.min():.3f} - {prediction_probs.max():.3f}")

# %% [markdown]
# ## 6. バックテスト実行

# %%
# %%capture backtest_output
# 戦略インスタンス作成
strategy = MLStrategy(
    model=model,
    min_confidence=CONFIG["min_confidence"],
    initial_capital=CONFIG["initial_capital"],
    transaction_cost=CONFIG["transaction_cost"],
    stop_loss=CONFIG["stop_loss"],
    take_profit=CONFIG["take_profit"]
)

# バックテスト実行
print("🚀 バックテスト実行中...")

for i, (date, row) in enumerate(df.iterrows()):
    current_price = row['Close']
    
    # ポートフォリオ価値更新
    portfolio_value = strategy.update_portfolio_value(current_price)
    
    # シグナル生成
    signal = strategy.generate_signal(row)
    
    # 取引実行
    strategy.execute_trade(current_price, signal, date)
    
    # ストップ条件チェック
    strategy.check_stop_conditions(current_price, date)

print("✅ バックテスト完了")
print(f"取引回数: {len(strategy.trades)}")
print(f"最終資金: ${strategy.portfolio_values[-1]:,.2f}")

# %% [markdown]
# ## 7. パフォーマンス計算

# %%
# パフォーマンス指標の計算
def calculate_performance_metrics(portfolio_values, trades, initial_capital):
    """パフォーマンス指標を計算"""
    if len(portfolio_values) == 0:
        return {}
    
    portfolio_series = pd.Series(portfolio_values)
    returns = portfolio_series.pct_change().dropna()
    
    # 基本指標
    total_return = (portfolio_series.iloc[-1] / initial_capital) - 1
    annual_return = (1 + total_return) ** (252 / len(portfolio_series)) - 1
    volatility = returns.std() * np.sqrt(252)
    sharpe_ratio = annual_return / volatility if volatility > 0 else 0
    
    # 最大ドローダウン
    cumulative = portfolio_series / portfolio_series.expanding().max()
    max_drawdown = (cumulative.min() - 1)
    
    # 勝率計算
    win_rate = 0
    profit_factor = 0
    
    if len(trades) >= 2:
        entry_trades = [t for t in trades if 'ENTRY' in t['action']]
        exit_trades = [t for t in trades if 'EXIT' in t['action']]
        
        if len(entry_trades) > 0 and len(exit_trades) > 0:
            profitable_trades = 0
            total_profit = 0
            total_loss = 0
            
            pairs = min(len(entry_trades), len(exit_trades))
            
            for i in range(pairs):
                entry = entry_trades[i]
                exit_trade = exit_trades[i]
                
                if 'LONG' in entry['action']:
                    pnl = exit_trade['price'] - entry['price']
                else:  # SHORT
                    pnl = entry['price'] - exit_trade['price']
                    
                if pnl > 0:
                    profitable_trades += 1
                    total_profit += pnl
                else:
                    total_loss += abs(pnl)
            
            win_rate = profitable_trades / pairs if pairs > 0 else 0
            profit_factor = total_profit / total_loss if total_loss > 0 else float('inf')
    
    return {
        'total_return': total_return,
        'annual_return': annual_return,
        'volatility': volatility,
        'sharpe_ratio': sharpe_ratio,
        'max_drawdown': max_drawdown,
        'win_rate': win_rate,
        'profit_factor': profit_factor,
        'num_trades': len(trades),
        'final_capital': portfolio_series.iloc[-1]
    }

# パフォーマンス計算
performance = calculate_performance_metrics(
    strategy.portfolio_values, 
    strategy.trades, 
    CONFIG["initial_capital"]
)

# Buy & Hold との比較
bh_returns = df['Close'].pct_change().dropna()
bh_cumulative = (1 + bh_returns).cumprod()
bh_final_value = CONFIG["initial_capital"] * bh_cumulative.iloc[-1]
bh_total_return = (bh_final_value / CONFIG["initial_capital"]) - 1

print("📊 パフォーマンス結果:")
print(f"総リターン: {performance['total_return']:.2%}")
print(f"年率リターン: {performance['annual_return']:.2%}")
print(f"ボラティリティ: {performance['volatility']:.2%}")
print(f"シャープレシオ: {performance['sharpe_ratio']:.3f}")
print(f"最大ドローダウン: {performance['max_drawdown']:.2%}")
print(f"勝率: {performance['win_rate']:.2%}")
print(f"プロフィットファクター: {performance['profit_factor']:.2f}")
print(f"\nBuy & Hold リターン: {bh_total_return:.2%}")
print(f"超過リターン: {(performance['total_return'] - bh_total_return):.2%}")

# %% [markdown]
# ## 8. 多面チャート作成 (Equity curve・リターン分布・DD 等)

# %%
# %%capture chart_output
# 多面チャートの作成
def create_comprehensive_charts(df, strategy, performance, config):
    """包括的なバックテストチャートを作成"""
    
    # チャート配置設定
    fig = plt.figure(figsize=(20, 16))
    
    # 1. Equity Curve (Portfolio Value)
    ax1 = plt.subplot(3, 3, 1)
    portfolio_series = pd.Series(strategy.portfolio_values, index=df.index)
    bh_series = config["initial_capital"] * (1 + df['Close'].pct_change()).cumprod()
    
    ax1.plot(portfolio_series.index, portfolio_series.values, label='Strategy', linewidth=2, color='blue')
    ax1.plot(bh_series.index, bh_series.values, label='Buy & Hold', linewidth=2, color='orange', alpha=0.7)
    ax1.set_title('Equity Curve', fontsize=12, fontweight='bold')
    ax1.set_ylabel('Portfolio Value ($)')
    ax1.legend()
    ax1.grid(True, alpha=0.3)
    
    # 2. Drawdown Chart
    ax2 = plt.subplot(3, 3, 2)
    cumulative = portfolio_series / portfolio_series.expanding().max()
    drawdown = (cumulative - 1) * 100
    ax2.fill_between(drawdown.index, drawdown.values, 0, color='red', alpha=0.3)
    ax2.plot(drawdown.index, drawdown.values, color='red', linewidth=1)
    ax2.set_title('Drawdown (%)', fontsize=12, fontweight='bold')
    ax2.set_ylabel('Drawdown (%)')
    ax2.grid(True, alpha=0.3)
    
    # 3. Returns Distribution
    ax3 = plt.subplot(3, 3, 3)
    returns = portfolio_series.pct_change().dropna() * 100
    ax3.hist(returns, bins=50, alpha=0.7, color='green', edgecolor='black')
    ax3.axvline(returns.mean(), color='red', linestyle='--', label=f'Mean: {returns.mean():.2f}%')
    ax3.axvline(returns.median(), color='blue', linestyle='--', label=f'Median: {returns.median():.2f}%')
    ax3.set_title('Returns Distribution', fontsize=12, fontweight='bold')
    ax3.set_xlabel('Daily Returns (%)')
    ax3.set_ylabel('Frequency')
    ax3.legend()
    ax3.grid(True, alpha=0.3)
    
    # 4. Price & Signals
    ax4 = plt.subplot(3, 3, 4)
    ax4.plot(df.index, df['Close'], label='Price', alpha=0.7, color='black')
    
    # 取引シグナルをプロット
    for trade in strategy.trades:
        if 'ENTRY' in trade['action']:
            color = 'green' if 'LONG' in trade['action'] else 'red'
            marker = '^' if 'LONG' in trade['action'] else 'v'
            ax4.scatter(trade['date'], trade['price'], color=color, marker=marker, s=60, zorder=5)
    
    ax4.set_title(f'{config["symbol"]} Price & Signals', fontsize=12, fontweight='bold')
    ax4.set_ylabel('Price (USDT)')
    ax4.grid(True, alpha=0.3)
    
    # 5. Prediction Probability
    ax5 = plt.subplot(3, 3, 5)
    ax5.plot(df.index, df['prediction_prob'], label='Prediction Prob', alpha=0.7, color='purple')
    ax5.axhline(y=config["min_confidence"], color='green', linestyle='--', alpha=0.5, 
                label=f'Long Threshold ({config["min_confidence"]})')
    ax5.axhline(y=1-config["min_confidence"], color='red', linestyle='--', alpha=0.5, 
                label=f'Short Threshold ({1-config["min_confidence"]})')
    ax5.set_title('Model Prediction Probability', fontsize=12, fontweight='bold')
    ax5.set_ylabel('Probability')
    ax5.legend()
    ax5.grid(True, alpha=0.3)
    
    # 6. Monthly Returns Heatmap
    ax6 = plt.subplot(3, 3, 6)
    monthly_returns = returns.groupby([returns.index.year, returns.index.month]).sum()
    monthly_returns_pivot = monthly_returns.unstack(level=1)
    
    if not monthly_returns_pivot.empty:
        sns.heatmap(monthly_returns_pivot, annot=True, fmt='.1f', cmap='RdYlGn', 
                   center=0, ax=ax6, cbar_kws={'label': 'Returns (%)'})
        ax6.set_title('Monthly Returns Heatmap (%)', fontsize=12, fontweight='bold')
        ax6.set_xlabel('Month')
        ax6.set_ylabel('Year')
    
    # 7. Rolling Sharpe Ratio
    ax7 = plt.subplot(3, 3, 7)
    rolling_window = 30
    rolling_sharpe = returns.rolling(rolling_window).mean() / returns.rolling(rolling_window).std() * np.sqrt(252)
    ax7.plot(rolling_sharpe.index, rolling_sharpe.values, color='orange', linewidth=2)
    ax7.axhline(y=1, color='red', linestyle='--', alpha=0.5, label='Sharpe = 1')
    ax7.set_title(f'Rolling Sharpe Ratio ({rolling_window}d)', fontsize=12, fontweight='bold')
    ax7.set_ylabel('Sharpe Ratio')
    ax7.legend()
    ax7.grid(True, alpha=0.3)
    
    # 8. Performance Metrics Table
    ax8 = plt.subplot(3, 3, 8)
    ax8.axis('off')
    
    metrics_data = [
        ['Total Return', f"{performance['total_return']:.2%}"],
        ['Annual Return', f"{performance['annual_return']:.2%}"],
        ['Volatility', f"{performance['volatility']:.2%}"],
        ['Sharpe Ratio', f"{performance['sharpe_ratio']:.3f}"],
        ['Max Drawdown', f"{performance['max_drawdown']:.2%}"],
        ['Win Rate', f"{performance['win_rate']:.2%}"],
        ['Profit Factor', f"{performance['profit_factor']:.2f}"],
        ['# Trades', f"{performance['num_trades']}"]
    ]
    
    table = ax8.table(cellText=metrics_data, 
                     colLabels=['Metric', 'Value'],
                     cellLoc='left',
                     loc='center',
                     colWidths=[0.6, 0.4])
    table.auto_set_font_size(False)
    table.set_fontsize(10)
    table.scale(1, 2)
    ax8.set_title('Performance Metrics', fontsize=12, fontweight='bold', pad=20)
    
    # 9. Trade Analysis
    ax9 = plt.subplot(3, 3, 9)
    
    if len(strategy.trades) > 0:
        trade_types = [trade['action'] for trade in strategy.trades]
        trade_counts = pd.Series(trade_types).value_counts()
        
        colors = ['green' if 'LONG' in t else 'red' for t in trade_counts.index]
        ax9.bar(range(len(trade_counts)), trade_counts.values, color=colors, alpha=0.7)
        ax9.set_xticks(range(len(trade_counts)))
        ax9.set_xticklabels(trade_counts.index, rotation=45)
        ax9.set_title('Trade Type Distribution', fontsize=12, fontweight='bold')
        ax9.set_ylabel('Count')
        ax9.grid(True, alpha=0.3)
    
    plt.tight_layout()
    return fig

# チャート作成
print("📊 多面チャートを作成中...")
chart_fig = create_comprehensive_charts(df, strategy, performance, CONFIG)

# %% [markdown]
# ## 9. レポート保存 & JSON エクスポート

# %%
# レポート保存ディレクトリの作成
project_path = get_project_path()
reports_dir = os.path.join(project_path, CONFIG["reports_dir"])
os.makedirs(reports_dir, exist_ok=True)

# 日付フォルダ作成
report_date = datetime.now().strftime("%Y%m%d_%H%M%S")
report_dir = os.path.join(reports_dir, report_date)
os.makedirs(report_dir, exist_ok=True)

# チャート保存
chart_path = os.path.join(report_dir, "backtest_comprehensive_chart.png")
chart_fig.savefig(chart_path, dpi=300, bbox_inches='tight')
print(f"✅ チャート保存完了: {chart_path}")

# JSON レポートの作成
json_report = {
    "backtest_info": {
        "symbol": CONFIG["symbol"],
        "strategy": "MLStrategy",
        "model_type": metadata["model_info"]["model_type"],
        "backtest_period": {
            "start": df.index[0].isoformat(),
            "end": df.index[-1].isoformat(),
            "days": len(df)
        },
        "execution_date": datetime.now().isoformat()
    },
    "parameters": {
        "initial_capital": CONFIG["initial_capital"],
        "transaction_cost": CONFIG["transaction_cost"],
        "min_confidence": CONFIG["min_confidence"],
        "stop_loss": CONFIG["stop_loss"],
        "take_profit": CONFIG["take_profit"]
    },
    "performance_metrics": {
        "total_return": float(performance["total_return"]),
        "annual_return": float(performance["annual_return"]),
        "volatility": float(performance["volatility"]),
        "sharpe_ratio": float(performance["sharpe_ratio"]),
        "max_drawdown": float(performance["max_drawdown"]),
        "win_rate": float(performance["win_rate"]),
        "profit_factor": float(performance["profit_factor"]),
        "final_capital": float(performance["final_capital"]),
        "num_trades": int(performance["num_trades"])
    },
    "benchmark_comparison": {
        "buy_hold_return": float(bh_total_return),
        "excess_return": float(performance["total_return"] - bh_total_return),
        "information_ratio": float((performance["annual_return"] - bh_total_return * (252/len(df))) / performance["volatility"]) if performance["volatility"] > 0 else 0
    },
    "risk_metrics": {
        "var_95": float(np.percentile(pd.Series(strategy.portfolio_values).pct_change().dropna(), 5)),
        "var_99": float(np.percentile(pd.Series(strategy.portfolio_values).pct_change().dropna(), 1)),
        "max_drawdown_duration": 0  # TODO: 実装
    },
    "trades_summary": {
        "total_trades": len(strategy.trades),
        "long_trades": len([t for t in strategy.trades if 'LONG' in t['action']]),
        "short_trades": len([t for t in strategy.trades if 'SHORT' in t['action']]),
        "avg_trade_return": 0  # TODO: 実装
    }
}

# JSON ファイル保存
json_path = os.path.join(report_dir, "backtest_results.json")
with open(json_path, 'w', encoding='utf-8') as f:
    json.dump(json_report, f, ensure_ascii=False, indent=2)

print(f"✅ JSON レポート保存完了: {json_path}")

# 結果サマリー
print(f"\n🎉 バックテスト完了サマリー:")
print(f"  - 戦略: {json_report['backtest_info']['strategy']}")
print(f"  - モデル: {json_report['backtest_info']['model_type']}")
print(f"  - 総リターン: {performance['total_return']:.2%}")
print(f"  - シャープレシオ: {performance['sharpe_ratio']:.3f}")
print(f"  - 最大DD: {performance['max_drawdown']:.2%}")
print(f"  - 勝率: {performance['win_rate']:.2%}")
print(f"  - 保存先: {report_dir}")

# %% [markdown]
# ## 10. 結果表示 (%%capture 解除後の display)

# %%
# 全ての出力を表示
print("🔍 セットアップ出力:")
print(setup_output)
print("\n" + "="*50)

print("📂 データ読み込み出力:")
print(load_output)
print("\n" + "="*50)

print("🔧 データ準備出力:")
print(data_prep_output)
print("\n" + "="*50)

print("🚀 バックテスト出力:")
print(backtest_output)
print("\n" + "="*50)

print("📊 チャート作成出力:")
print(chart_output)
print("\n" + "="*50)

# 最終チャート表示
print("📈 最終チャート:")
plt.show()

print("\n✅ すべての処理が完了しました！")
print(f"📁 レポートは {report_dir} に保存されています。")