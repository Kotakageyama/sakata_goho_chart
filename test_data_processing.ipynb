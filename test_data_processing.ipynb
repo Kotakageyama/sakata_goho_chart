{
 "cells": [
  {
   "cell_type": "markdown",
   "id": "b19cc017",
   "metadata": {},
   "source": [
    "# データ処理モジュールのテスト\n",
    "\n",
    "このノートブックでは、改善されたデータ処理モジュールの機能をテストします。"
   ]
  },
  {
   "cell_type": "code",
   "execution_count": null,
   "id": "043ca2b7",
   "metadata": {},
   "outputs": [],
   "source": [
    "import sys\n",
    "sys.path.append(\"..\")\n",
    "from src.data import CryptoDataLoader\n",
    "import pandas as pd\n",
    "import matplotlib.pyplot as plt\n",
    "%matplotlib inline"
   ]
  },
  {
   "cell_type": "markdown",
   "id": "a0ad339c",
   "metadata": {},
   "source": [
    "## データの読み込みテスト"
   ]
  },
  {
   "cell_type": "code",
   "execution_count": null,
   "id": "cc84f797",
   "metadata": {},
   "outputs": [],
   "source": [
    "data_loader = CryptoDataLoader()\n",
    "csv_path = \"../attachments/ETHUSD_2Year_2022-11-15_2024-11-15.csv\"\n",
    "df = data_loader.load_data(csv_path)\n",
    "print(\"データの形状:\", df.shape)\n",
    "df.head()"
   ]
  },
  {
   "cell_type": "markdown",
   "id": "25e7acee",
   "metadata": {},
   "source": [
    "## テクニカル指標の追加"
   ]
  },
  {
   "cell_type": "code",
   "execution_count": null,
   "id": "fefe0c23",
   "metadata": {},
   "outputs": [],
   "source": [
    "df_with_indicators = data_loader.add_technical_indicators(df)\n",
    "print(\"\n",
    "追加された指標:\")\n",
    "new_indicators = [col for col in df_with_indicators.columns if col not in df.columns]\n",
    "print(new_indicators)\n",
    "\n",
    "plt.figure(figsize=(15, 10))\n",
    "plt.subplot(2, 1, 1)\n",
    "plt.plot(df_with_indicators.index, df_with_indicators[\"Close\"], label=\"Close Price\")\n",
    "plt.plot(df_with_indicators.index, df_with_indicators[\"SMA_20\"], label=\"SMA 20\")\n",
    "plt.plot(df_with_indicators.index, df_with_indicators[\"BB_upper\"], label=\"BB Upper\")\n",
    "plt.plot(df_with_indicators.index, df_with_indicators[\"BB_lower\"], label=\"BB Lower\")\n",
    "plt.legend()\n",
    "plt.title(\"価格とボリンジャーバンド\")\n",
    "\n",
    "plt.subplot(2, 1, 2)\n",
    "plt.plot(df_with_indicators.index, df_with_indicators[\"RSI\"], label=\"RSI\")\n",
    "plt.axhline(y=70, color=\"r\", linestyle=\"--\")\n",
    "plt.axhline(y=30, color=\"g\", linestyle=\"--\")\n",
    "plt.legend()\n",
    "plt.title(\"RSI指標\")\n",
    "plt.tight_layout()\n",
    "plt.show()"
   ]
  },
  {
   "cell_type": "markdown",
   "id": "7da6b368",
   "metadata": {},
   "source": [
    "## モデル学習用データの準備"
   ]
  },
  {
   "cell_type": "code",
   "execution_count": null,
   "id": "669d3b1e",
   "metadata": {},
   "outputs": [],
   "source": [
    "X_train, X_test, y_train, y_test, scaler = data_loader.prepare_data(df_with_indicators, sequence_length=60)\n",
    "\n",
    "print(\"学習データの形状:\")\n",
    "print(f\"X_train: {X_train.shape}\")\n",
    "print(f\"X_test: {X_test.shape}\")\n",
    "print(f\"y_train: {y_train.shape}\")\n",
    "print(f\"y_test: {y_test.shape}\")"
   ]
  }
 ],
 "metadata": {},
 "nbformat": 4,
 "nbformat_minor": 5
}
