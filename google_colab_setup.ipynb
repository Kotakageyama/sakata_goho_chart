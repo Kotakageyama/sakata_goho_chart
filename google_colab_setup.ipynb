{
  "cells": [
    {
      "cell_type": "raw",
      "metadata": {
        "vscode": {
          "languageId": "raw"
        }
      },
      "source": [
        "# Google Colab Setup for Trading Bot\n",
        "\n",
        "このNotebookは、Google Colab環境でTrading Botプロジェクトをセットアップするためのものです。\n",
        "\n",
        "## セットアップ手順\n",
        "1. この notebookをGoogle Colabで開く\n",
        "2. 以下のセルを順番に実行\n",
        "3. KuCoin APIキーをSecretsに設定\n",
        "4. プロジェクトファイルをGoogle Driveにアップロード\n"
      ]
    },
    {
      "cell_type": "code",
      "execution_count": null,
      "metadata": {},
      "outputs": [],
      "source": [
        "# Google Driveをマウント\n",
        "from google.colab import drive\n",
        "drive.mount('/content/drive')\n"
      ]
    },
    {
      "cell_type": "code",
      "execution_count": null,
      "metadata": {},
      "outputs": [],
      "source": [
        "# プロジェクトディレクトリに移動（ZIPファイルをGoogle Driveにアップロード後）\n",
        "import os\n",
        "import zipfile\n",
        "\n",
        "# ZIPファイルのパスを指定（Google Driveにアップロードした場合）\n",
        "zip_path = \"/content/drive/MyDrive/sakata_goho_chart.zip\"\n",
        "\n",
        "# 作業ディレクトリに展開\n",
        "if os.path.exists(zip_path):\n",
        "    with zipfile.ZipFile(zip_path, 'r') as zip_ref:\n",
        "        zip_ref.extractall(\"/content/sakata_goho_chart\")\n",
        "    \n",
        "    # 作業ディレクトリに移動\n",
        "    os.chdir(\"/content/sakata_goho_chart\")\n",
        "    print(\"プロジェクトファイルの展開完了\")\n",
        "    print(f\"現在のディレクトリ: {os.getcwd()}\")\n",
        "    print(\"ファイル一覧:\", os.listdir())\n",
        "else:\n",
        "    print(f\"ZIPファイルが見つかりません: {zip_path}\")\n",
        "    print(\"Google DriveにZIPファイルをアップロードしてください\")\n"
      ]
    },
    {
      "cell_type": "code",
      "execution_count": null,
      "metadata": {},
      "outputs": [],
      "source": [
        "# 必要なライブラリをインストール\n",
        "%%capture\n",
        "!pip install ccxt\n",
        "!pip install backtesting\n",
        "!pip install mplfinance\n",
        "!pip install pyti\n",
        "!pip install keras\n",
        "!pip install pandas_ta\n",
        "!pip install ta\n",
        "!pip install PyYAML\n",
        "\n",
        "# TA-Libのインストール（Google Colab用）\n",
        "!wget http://prdownloads.sourceforge.net/ta-lib/ta-lib-0.4.0-src.tar.gz\n",
        "!tar -xzf ta-lib-0.4.0-src.tar.gz\n",
        "%cd ta-lib\n",
        "!./configure --prefix=/usr\n",
        "!make\n",
        "!make install\n",
        "%cd /content/sakata_goho_chart\n",
        "!pip install Ta-Lib\n",
        "\n",
        "print(\"ライブラリのインストール完了\")\n"
      ]
    },
    {
      "cell_type": "code",
      "execution_count": null,
      "metadata": {},
      "outputs": [],
      "source": [
        "# API設定の確認\n",
        "from google.colab import userdata\n",
        "\n",
        "# APIキーが設定されているか確認\n",
        "try:\n",
        "    api_key = userdata.get('KuCoin_API_KEY')\n",
        "    secret = userdata.get('KuCoin_API_SECRET')\n",
        "    password = userdata.get('KuCoin_API_PASSPHRAS')\n",
        "    \n",
        "    if api_key and secret and password:\n",
        "        print(\"✅ APIキーが正しく設定されています\")\n",
        "    else:\n",
        "        print(\"❌ APIキーが設定されていません\")\n",
        "        print(\"Google ColabのSecretsにAPIキーを設定してください:\")\n",
        "        print(\"1. 左側のパネルの🔑アイコンをクリック\")\n",
        "        print(\"2. 以下のキーを追加:\")\n",
        "        print(\"   - KuCoin_API_KEY\")\n",
        "        print(\"   - KuCoin_API_SECRET\") \n",
        "        print(\"   - KuCoin_API_PASSPHRAS\")\n",
        "        \n",
        "except Exception as e:\n",
        "    print(f\"APIキー取得エラー: {e}\")\n",
        "    print(\"Google ColabのSecretsにAPIキーを設定してください\")\n"
      ]
    }
  ],
  "metadata": {
    "language_info": {
      "name": "python"
    }
  },
  "nbformat": 4,
  "nbformat_minor": 2
}
